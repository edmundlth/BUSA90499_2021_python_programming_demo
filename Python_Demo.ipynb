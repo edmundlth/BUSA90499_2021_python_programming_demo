{
 "cells": [
  {
   "cell_type": "markdown",
   "id": "greatest-population",
   "metadata": {},
   "source": [
    "---\n",
    "# BUSA90499 Python Programming Demo\n",
    "---\n",
    "\n",
    "## Goal for this demo session: \n",
    "---\n",
    "Our main goal in this section is to demonstrate some possible ways you can use Python for \"interesting\" tasks. \n",
    "\n",
    "\n",
    "Topics:\n",
    "* How large scale softwares are organised: Functions, Modules and Libraries\n",
    "  - and how to install them. \n",
    "  - Python standard libraries. \n",
    "* Set up a Python environment. \n",
    "  - Grok, REPL, commandline, IDEs\n",
    "  - Basic introduction to Python's package manager. (https://pypi.org/)\n",
    "  - Virtual environment\n",
    "  - Jupyter notebooks\n",
    "* Introduction to some popular external libraries. \n",
    "  - Pandas - R-like dataframes\n",
    "  - Matplotlib - for plotting\n",
    "  - Scipy - scientific computation\n",
    "  - Sklearn - machine learning\n",
    "* Some data exploration\n",
    "* See what billions of operations per second can do for us. \n",
    "\n",
    "\n",
    "Please note that: \n",
    "* These are bonus materials and won't be examinable. Emphasis on **demonstrate**, don't worry about the details, the main point is to broaden your idea of what's **possible** with your current skills + a lot of Googling. \n",
    "* None of these are \"profound\" or difficult concepts, but they **can be very complicated** and have a lot of moving parts. \n",
    "* Rather, things you learn in your morning lectures (algorithms, data structures, types, syntax and grammars..), those are things worth spending time understanding. \n",
    "* Ironically, most of a programmer time would probably be spent on \"shallow\" things like these. \n",
    "* One strategy is to learn these on-demand and learn them quickly, then move on to more important things. \n",
    "\n",
    "\n",
    "\n",
    "---\n",
    "## Some notes about the Jupyter notebooks themselves\n",
    "---\n",
    " * Well, they are not very well documented. They are meant to be teaching aide where I talk over them rather than for someone reading through it. \n",
    " * They are not even very well written code. It is common for data exploration to be messy and actual clean documented code to be (re-)written afterwards when we understand what we are dealing with and have a good idea of the structure of the program. \n",
    " * These are meant to illustrate things that you can do with Python and some publically available libraries. No attempt is made to make the topics covered exhaustive. "
   ]
  },
  {
   "cell_type": "markdown",
   "id": "suspected-things",
   "metadata": {},
   "source": [
    "---\n",
    "## Prerequisite for setting up the notebook environment\n",
    "---\n",
    "Python is cursed (or blessed depending on who you ask) with too many different package managers and development environment. You can simply use `pip` to install anything you will need in these notebooks. \n",
    "This is the dependency configuration at the time of writting: \n",
    "```\n",
    "[[source]]\n",
    "url = \"https://pypi.org/simple\"\n",
    "verify_ssl = true\n",
    "name = \"pypi\"\n",
    "\n",
    "[packages]\n",
    "jupyter = \"*\"\n",
    "numpy = \"*\"\n",
    "matplotlib = \"*\"\n",
    "scipy = \"*\"\n",
    "pandas = \"*\"\n",
    "seaborn = \"*\"\n",
    "networkx = \"*\"\n",
    "imageio = \"*\"\n",
    "sklearn = \"*\"\n",
    "\n",
    "[requires]\n",
    "python_version = \"3.8\"\n",
    "\n",
    "```\n",
    "\n",
    "You can either \n",
    " * copy the above into a file named `Pipfile` and run `pipenv install`\n",
    " * or just do `pip install` on each of the package above. I would strongly encourage the usage of a [virtual environment](https://pypi.org/project/virtualenv/) though."
   ]
  },
  {
   "cell_type": "code",
   "execution_count": null,
   "id": "cellular-holly",
   "metadata": {},
   "outputs": [],
   "source": []
  }
 ],
 "metadata": {
  "kernelspec": {
   "display_name": "Python 3",
   "language": "python",
   "name": "python3"
  },
  "language_info": {
   "codemirror_mode": {
    "name": "ipython",
    "version": 3
   },
   "file_extension": ".py",
   "mimetype": "text/x-python",
   "name": "python",
   "nbconvert_exporter": "python",
   "pygments_lexer": "ipython3",
   "version": "3.8.5"
  }
 },
 "nbformat": 4,
 "nbformat_minor": 5
}
